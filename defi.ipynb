{
 "cells": [
  {
   "cell_type": "code",
   "execution_count": 1,
   "metadata": {},
   "outputs": [],
   "source": [
    "from deficrawler import Oracle\n",
    "from deficrawler import Dex\n",
    "from deficrawler import Lending\n",
    "import pandas as pd\n",
    "import seaborn as sns\n",
    "import matplotlib.pyplot as plt\n",
    "import datetime\n",
    "from collections import Counter\n",
    "\n",
    "from plotly import graph_objs as go\n",
    "import plotly.express as px\n",
    "import plotly.figure_factory as ff\n",
    "\n",
    "pd.set_option('display.max_columns', 500)\n"
   ]
  },
  {
   "cell_type": "code",
   "execution_count": 2,
   "metadata": {},
   "outputs": [
    {
     "name": "stdout",
     "output_type": "stream",
     "text": [
      "['borrow', 'deposit', 'liquidation', 'repay']\n"
     ]
    }
   ],
   "source": [
    "# Lending protocols\n",
    "aave = Lending(protocol=\"Aave\", chain=\"Ethereum\", version=2)\n",
    "aave_polygon = Lending(protocol=\"Aave\", chain=\"Polygon\", version=2)\n",
    "compound = Lending(protocol=\"Compound\", chain=\"Ethereum\", version=2)\n",
    "cream = Lending(protocol=\"Cream\", chain=\"Ethereum\", version=2)\n",
    "cream_bsc = Lending(protocol=\"Cream\", chain=\"bsc\", version=2)\n",
    "\n",
    "\n",
    "# Supported entities for aave\n",
    "print(aave.supported_entities())"
   ]
  },
  {
   "cell_type": "code",
   "execution_count": 3,
   "metadata": {},
   "outputs": [
    {
     "data": {
      "text/html": [
       "<div>\n",
       "<style scoped>\n",
       "    .dataframe tbody tr th:only-of-type {\n",
       "        vertical-align: middle;\n",
       "    }\n",
       "\n",
       "    .dataframe tbody tr th {\n",
       "        vertical-align: top;\n",
       "    }\n",
       "\n",
       "    .dataframe thead th {\n",
       "        text-align: right;\n",
       "    }\n",
       "</style>\n",
       "<table border=\"1\" class=\"dataframe\">\n",
       "  <thead>\n",
       "    <tr style=\"text-align: right;\">\n",
       "      <th></th>\n",
       "      <th>tx_id</th>\n",
       "      <th>protocol</th>\n",
       "      <th>chain</th>\n",
       "      <th>version</th>\n",
       "      <th>user</th>\n",
       "      <th>token</th>\n",
       "      <th>amount</th>\n",
       "      <th>timestamp</th>\n",
       "    </tr>\n",
       "  </thead>\n",
       "  <tbody>\n",
       "    <tr>\n",
       "      <th>0</th>\n",
       "      <td>15649016</td>\n",
       "      <td>Aave</td>\n",
       "      <td>Ethereum</td>\n",
       "      <td>2</td>\n",
       "      <td>0xce74a5886ea7a8a675d8fb5fc11a697a23fe1dc8</td>\n",
       "      <td>BUSD</td>\n",
       "      <td>50000.0</td>\n",
       "      <td>1664575427</td>\n",
       "    </tr>\n",
       "    <tr>\n",
       "      <th>1</th>\n",
       "      <td>15649088</td>\n",
       "      <td>Aave</td>\n",
       "      <td>Ethereum</td>\n",
       "      <td>2</td>\n",
       "      <td>0x66b0d6cd3a7704baeeb42a78122311949ac3b743</td>\n",
       "      <td>USDT</td>\n",
       "      <td>400.0</td>\n",
       "      <td>1664576291</td>\n",
       "    </tr>\n",
       "    <tr>\n",
       "      <th>2</th>\n",
       "      <td>15649110</td>\n",
       "      <td>Aave</td>\n",
       "      <td>Ethereum</td>\n",
       "      <td>2</td>\n",
       "      <td>0x1b7a9c831b4f2088fa6eae337088ae2fc9913ef5</td>\n",
       "      <td>USDC</td>\n",
       "      <td>100.0</td>\n",
       "      <td>1664576555</td>\n",
       "    </tr>\n",
       "    <tr>\n",
       "      <th>3</th>\n",
       "      <td>15649115</td>\n",
       "      <td>Aave</td>\n",
       "      <td>Ethereum</td>\n",
       "      <td>2</td>\n",
       "      <td>0x164e9765e50495b0a19770682cb30d442bda9c64</td>\n",
       "      <td>USDC</td>\n",
       "      <td>2000.0</td>\n",
       "      <td>1664576615</td>\n",
       "    </tr>\n",
       "    <tr>\n",
       "      <th>4</th>\n",
       "      <td>15649304</td>\n",
       "      <td>Aave</td>\n",
       "      <td>Ethereum</td>\n",
       "      <td>2</td>\n",
       "      <td>0xd54e6e49c1dd1e99b70f26153fb28383b434823e</td>\n",
       "      <td>USDC</td>\n",
       "      <td>500.0</td>\n",
       "      <td>1664578919</td>\n",
       "    </tr>\n",
       "  </tbody>\n",
       "</table>\n",
       "</div>"
      ],
      "text/plain": [
       "      tx_id protocol     chain  version  \\\n",
       "0  15649016     Aave  Ethereum        2   \n",
       "1  15649088     Aave  Ethereum        2   \n",
       "2  15649110     Aave  Ethereum        2   \n",
       "3  15649115     Aave  Ethereum        2   \n",
       "4  15649304     Aave  Ethereum        2   \n",
       "\n",
       "                                         user token   amount   timestamp  \n",
       "0  0xce74a5886ea7a8a675d8fb5fc11a697a23fe1dc8  BUSD  50000.0  1664575427  \n",
       "1  0x66b0d6cd3a7704baeeb42a78122311949ac3b743  USDT    400.0  1664576291  \n",
       "2  0x1b7a9c831b4f2088fa6eae337088ae2fc9913ef5  USDC    100.0  1664576555  \n",
       "3  0x164e9765e50495b0a19770682cb30d442bda9c64  USDC   2000.0  1664576615  \n",
       "4  0xd54e6e49c1dd1e99b70f26153fb28383b434823e  USDC    500.0  1664578919  "
      ]
     },
     "execution_count": 3,
     "metadata": {},
     "output_type": "execute_result"
    }
   ],
   "source": [
    "# Get borrows in a time period\n",
    "start_date = '01/10/2022 00:00:01'\n",
    "end_date = '04/12/2022 23:59:59'\n",
    "\n",
    "\n",
    "list_borrows = [*aave.get_data_from_date_range(start_date, end_date, \"borrow\"),\n",
    "                *aave_polygon.get_data_from_date_range(start_date, end_date, \"borrow\"),\n",
    "                *compound.get_data_from_date_range(start_date, end_date, \"borrow\"),\n",
    "                *cream_bsc.get_data_from_date_range(start_date, end_date, \"borrow\"),\n",
    "                *cream.get_data_from_date_range(start_date, end_date, \"borrow\")]\n",
    "\n",
    "\n",
    "\n",
    "df_borrows = pd.DataFrame.from_records(list_borrows)\n",
    "df_borrows.head()\n"
   ]
  },
  {
   "cell_type": "code",
   "execution_count": 4,
   "metadata": {},
   "outputs": [
    {
     "data": {
      "text/plain": [
       "(63849, 8)"
      ]
     },
     "execution_count": 4,
     "metadata": {},
     "output_type": "execute_result"
    }
   ],
   "source": [
    "df_borrows.shape"
   ]
  },
  {
   "cell_type": "code",
   "execution_count": 5,
   "metadata": {},
   "outputs": [
    {
     "data": {
      "text/plain": [
       "array(['Aave', 'Compound', 'Cream'], dtype=object)"
      ]
     },
     "execution_count": 5,
     "metadata": {},
     "output_type": "execute_result"
    }
   ],
   "source": [
    "df_borrows.protocol.unique()"
   ]
  },
  {
   "cell_type": "code",
   "execution_count": 6,
   "metadata": {},
   "outputs": [
    {
     "data": {
      "text/html": [
       "<div>\n",
       "<style scoped>\n",
       "    .dataframe tbody tr th:only-of-type {\n",
       "        vertical-align: middle;\n",
       "    }\n",
       "\n",
       "    .dataframe tbody tr th {\n",
       "        vertical-align: top;\n",
       "    }\n",
       "\n",
       "    .dataframe thead th {\n",
       "        text-align: right;\n",
       "    }\n",
       "</style>\n",
       "<table border=\"1\" class=\"dataframe\">\n",
       "  <thead>\n",
       "    <tr style=\"text-align: right;\">\n",
       "      <th></th>\n",
       "      <th>tx_id</th>\n",
       "      <th>protocol</th>\n",
       "      <th>chain</th>\n",
       "      <th>version</th>\n",
       "      <th>user</th>\n",
       "      <th>token</th>\n",
       "      <th>amount</th>\n",
       "      <th>timestamp</th>\n",
       "      <th>time_dt</th>\n",
       "      <th>month</th>\n",
       "    </tr>\n",
       "  </thead>\n",
       "  <tbody>\n",
       "    <tr>\n",
       "      <th>0</th>\n",
       "      <td>15649016</td>\n",
       "      <td>Aave</td>\n",
       "      <td>Ethereum</td>\n",
       "      <td>2</td>\n",
       "      <td>0xce74a5886ea7a8a675d8fb5fc11a697a23fe1dc8</td>\n",
       "      <td>BUSD</td>\n",
       "      <td>50000.0</td>\n",
       "      <td>1664575427</td>\n",
       "      <td>2022-09-30 22:03:47</td>\n",
       "      <td>9</td>\n",
       "    </tr>\n",
       "    <tr>\n",
       "      <th>1</th>\n",
       "      <td>15649088</td>\n",
       "      <td>Aave</td>\n",
       "      <td>Ethereum</td>\n",
       "      <td>2</td>\n",
       "      <td>0x66b0d6cd3a7704baeeb42a78122311949ac3b743</td>\n",
       "      <td>USDT</td>\n",
       "      <td>400.0</td>\n",
       "      <td>1664576291</td>\n",
       "      <td>2022-09-30 22:18:11</td>\n",
       "      <td>9</td>\n",
       "    </tr>\n",
       "    <tr>\n",
       "      <th>2</th>\n",
       "      <td>15649110</td>\n",
       "      <td>Aave</td>\n",
       "      <td>Ethereum</td>\n",
       "      <td>2</td>\n",
       "      <td>0x1b7a9c831b4f2088fa6eae337088ae2fc9913ef5</td>\n",
       "      <td>USDC</td>\n",
       "      <td>100.0</td>\n",
       "      <td>1664576555</td>\n",
       "      <td>2022-09-30 22:22:35</td>\n",
       "      <td>9</td>\n",
       "    </tr>\n",
       "  </tbody>\n",
       "</table>\n",
       "</div>"
      ],
      "text/plain": [
       "      tx_id protocol     chain  version  \\\n",
       "0  15649016     Aave  Ethereum        2   \n",
       "1  15649088     Aave  Ethereum        2   \n",
       "2  15649110     Aave  Ethereum        2   \n",
       "\n",
       "                                         user token   amount   timestamp  \\\n",
       "0  0xce74a5886ea7a8a675d8fb5fc11a697a23fe1dc8  BUSD  50000.0  1664575427   \n",
       "1  0x66b0d6cd3a7704baeeb42a78122311949ac3b743  USDT    400.0  1664576291   \n",
       "2  0x1b7a9c831b4f2088fa6eae337088ae2fc9913ef5  USDC    100.0  1664576555   \n",
       "\n",
       "              time_dt  month  \n",
       "0 2022-09-30 22:03:47      9  \n",
       "1 2022-09-30 22:18:11      9  \n",
       "2 2022-09-30 22:22:35      9  "
      ]
     },
     "execution_count": 6,
     "metadata": {},
     "output_type": "execute_result"
    }
   ],
   "source": [
    "df_borrows['time_dt'] = pd.to_datetime(df_borrows['timestamp'],unit='s')\n",
    "df_borrows['month'] = df_borrows.time_dt.dt.month\n",
    "df_borrows.head(3)"
   ]
  },
  {
   "cell_type": "code",
   "execution_count": 8,
   "metadata": {},
   "outputs": [
    {
     "data": {
      "text/plain": [
       "<AxesSubplot:xlabel='month', ylabel='count'>"
      ]
     },
     "execution_count": 8,
     "metadata": {},
     "output_type": "execute_result"
    },
    {
     "data": {
      "image/png": "[encoded data removed]",
      "text/plain": [
       "<Figure size 800x500 with 1 Axes>"
      ]
     },
     "metadata": {},
     "output_type": "display_data"
    }
   ],
   "source": [
    "plt.figure(figsize=(8,5))\n",
    "sns.countplot(x = 'month', hue=\"protocol\", data =df_borrows, )"
   ]
  },
  {
   "cell_type": "code",
   "execution_count": 9,
   "metadata": {},
   "outputs": [
    {
     "data": {
      "text/plain": [
       "<AxesSubplot:xlabel='month', ylabel='count'>"
      ]
     },
     "execution_count": 9,
     "metadata": {},
     "output_type": "execute_result"
    },
    {
     "data": {
      "image/png": "[encoded data removed]",
      "text/plain": [
       "<Figure size 800x500 with 1 Axes>"
      ]
     },
     "metadata": {},
     "output_type": "display_data"
    }
   ],
   "source": [
    "plt.figure(figsize=(8,5))\n",
    "sns.countplot(x = 'month', hue=\"chain\", data =df_borrows, )"
   ]
  },
  {
   "cell_type": "code",
   "execution_count": 39,
   "metadata": {},
   "outputs": [
    {
     "data": {
      "text/plain": [
       "<AxesSubplot:xlabel='month', ylabel='count'>"
      ]
     },
     "execution_count": 39,
     "metadata": {},
     "output_type": "execute_result"
    },
    {
     "data": {
      "image/png": "[encoded data removed]",
      "text/plain": [
       "<Figure size 800x500 with 1 Axes>"
      ]
     },
     "metadata": {},
     "output_type": "display_data"
    }
   ],
   "source": [
    "plt.figure(figsize=(8,5))\n",
    "sns.countplot(x = 'month', hue=\"token\", data =df_borrows, )"
   ]
  },
  {
   "cell_type": "code",
   "execution_count": 34,
   "metadata": {},
   "outputs": [],
   "source": [
    "t_count =pd.DataFrame(df_borrows.groupby(['token'])['token'].count())\n",
    "t_count.rename(columns = {'token':'count'}, inplace = True)\n",
    "t_count['token'] = t_count.index"
   ]
  },
  {
   "cell_type": "code",
   "execution_count": 40,
   "metadata": {},
   "outputs": [
    {
     "name": "stdout",
     "output_type": "stream",
     "text": [
      "Object `palettable.colorbrewer` not found.\n"
     ]
    }
   ],
   "source": [
    "?palettable.colorbrewer"
   ]
  },
  {
   "cell_type": "code",
   "execution_count": 45,
   "metadata": {},
   "outputs": [
    {
     "data": {
      "image/png": "[encoded data removed]",
      "text/plain": [
       "<Figure size 1600x1000 with 1 Axes>"
      ]
     },
     "metadata": {},
     "output_type": "display_data"
    }
   ],
   "source": [
    "\n",
    "from palettable.tableau import Tableau_20\n",
    "plt.figure(figsize=(16,10))\n",
    "my_circle=plt.Circle((0,0), 0.7, color='white')\n",
    "plt.pie(t_count['count'], labels=t_count.token, labeldistance=None, \n",
    "    colors=Tableau_20.hex_colors,shadow=True, radius=1)\n",
    "p=plt.gcf()\n",
    "p.gca().add_artist(my_circle)\n",
    "plt.legend(title=\"Token\", loc=\"center\", ncol=3, frameon=False)\n",
    "plt.title('DoNut Plot Of Tokens')\n",
    "plt.show()"
   ]
  },
  {
   "cell_type": "code",
   "execution_count": 38,
   "metadata": {},
   "outputs": [
    {
     "data": {
      "application/vnd.plotly.v1+json": {
       "config": {
        "plotlyServerURL": "https://plot.ly"
       },
       "data": [
        {
         "branchvalues": "total",
         "domain": {
          "x": [
           0,
           1
          ],
          "y": [
           0,
           1
          ]
         },
         "hovertemplate": "labels=%{label}<br>count=%{value}<br>parent=%{parent}<br>id=%{id}<extra></extra>",
         "ids": [
          "1INCH",
          "AAVE",
          "AMPL",
          "AmmDAI",
          "AmmUSDC",
          "AmmUSDT",
          "AmmWBTC",
          "AmmWETH",
          "BAL",
          "BAT",
          "BNB",
          "BTCB",
          "BUSD",
          "COMP",
          "CRV",
          "CVX",
          "Cake",
          "DAI",
          "DPI",
          "ENJ",
          "ENS",
          "ETH",
          "FRAX",
          "GHST",
          "GUSD",
          "LINK",
          "LUSD",
          "MANA",
          "MKR",
          "PAX",
          "RAI",
          "REN",
          "RENFIL",
          "SNX",
          "SUSD",
          "SUSHI",
          "TUSD",
          "UNI",
          "USDC",
          "USDP",
          "USDT",
          "WBTC",
          "WETH",
          "WMATIC",
          "YFI",
          "ZRX"
         ],
         "labels": [
          "1INCH",
          "AAVE",
          "AMPL",
          "AmmDAI",
          "AmmUSDC",
          "AmmUSDT",
          "AmmWBTC",
          "AmmWETH",
          "BAL",
          "BAT",
          "BNB",
          "BTCB",
          "BUSD",
          "COMP",
          "CRV",
          "CVX",
          "Cake",
          "DAI",
          "DPI",
          "ENJ",
          "ENS",
          "ETH",
          "FRAX",
          "GHST",
          "GUSD",
          "LINK",
          "LUSD",
          "MANA",
          "MKR",
          "PAX",
          "RAI",
          "REN",
          "RENFIL",
          "SNX",
          "SUSD",
          "SUSHI",
          "TUSD",
          "UNI",
          "USDC",
          "USDP",
          "USDT",
          "WBTC",
          "WETH",
          "WMATIC",
          "YFI",
          "ZRX"
         ],
         "name": "",
         "parents": [
          "",
          "",
          "",
          "",
          "",
          "",
          "",
          "",
          "",
          "",
          "",
          "",
          "",
          "",
          "",
          "",
          "",
          "",
          "",
          "",
          "",
          "",
          "",
          "",
          "",
          "",
          "",
          "",
          "",
          "",
          "",
          "",
          "",
          "",
          "",
          "",
          "",
          "",
          "",
          "",
          "",
          "",
          "",
          "",
          "",
          ""
         ],
         "type": "treemap",
         "values": [
          104,
          46,
          56,
          4,
          15,
          4,
          10,
          37,
          163,
          22,
          58,
          10,
          716,
          38,
          837,
          70,
          36,
          3269,
          8,
          55,
          136,
          446,
          164,
          24,
          170,
          334,
          213,
          94,
          78,
          32,
          19,
          8,
          88,
          156,
          63,
          45,
          146,
          119,
          18762,
          7,
          4333,
          2531,
          16835,
          13410,
          49,
          29
         ]
        }
       ],
       "layout": {
        "legend": {
         "tracegroupgap": 0
        },
        "template": {
         "data": {
          "bar": [
           {
            "error_x": {
             "color": "#2a3f5f"
            },
            "error_y": {
             "color": "#2a3f5f"
            },
            "marker": {
             "line": {
              "color": "#E5ECF6",
              "width": 0.5
             },
             "pattern": {
              "fillmode": "overlay",
              "size": 10,
              "solidity": 0.2
             }
            },
            "type": "bar"
           }
          ],
          "barpolar": [
           {
            "marker": {
             "line": {
              "color": "#E5ECF6",
              "width": 0.5
             },
             "pattern": {
              "fillmode": "overlay",
              "size": 10,
              "solidity": 0.2
             }
            },
            "type": "barpolar"
           }
          ],
          "carpet": [
           {
            "aaxis": {
             "endlinecolor": "#2a3f5f",
             "gridcolor": "white",
             "linecolor": "white",
             "minorgridcolor": "white",
             "startlinecolor": "#2a3f5f"
            },
            "baxis": {
             "endlinecolor": "#2a3f5f",
             "gridcolor": "white",
             "linecolor": "white",
             "minorgridcolor": "white",
             "startlinecolor": "#2a3f5f"
            },
            "type": "carpet"
           }
          ],
          "choropleth": [
           {
            "colorbar": {
             "outlinewidth": 0,
             "ticks": ""
            },
            "type": "choropleth"
           }
          ],
          "contour": [
           {
            "colorbar": {
             "outlinewidth": 0,
             "ticks": ""
            },
            "colorscale": [
             [
              0,
              "#0d0887"
             ],
             [
              0.1111111111111111,
              "#46039f"
             ],
             [
              0.2222222222222222,
              "#7201a8"
             ],
             [
              0.3333333333333333,
              "#9c179e"
             ],
             [
              0.4444444444444444,
              "#bd3786"
             ],
             [
              0.5555555555555556,
              "#d8576b"
             ],
             [
              0.6666666666666666,
              "#ed7953"
             ],
             [
              0.7777777777777778,
              "#fb9f3a"
             ],
             [
              0.8888888888888888,
              "#fdca26"
             ],
             [
              1,
              "#f0f921"
             ]
            ],
            "type": "contour"
           }
          ],
          "contourcarpet": [
           {
            "colorbar": {
             "outlinewidth": 0,
             "ticks": ""
            },
            "type": "contourcarpet"
           }
          ],
          "heatmap": [
           {
            "colorbar": {
             "outlinewidth": 0,
             "ticks": ""
            },
            "colorscale": [
             [
              0,
              "#0d0887"
             ],
             [
              0.1111111111111111,
              "#46039f"
             ],
             [
              0.2222222222222222,
              "#7201a8"
             ],
             [
              0.3333333333333333,
              "#9c179e"
             ],
             [
              0.4444444444444444,
              "#bd3786"
             ],
             [
              0.5555555555555556,
              "#d8576b"
             ],
             [
              0.6666666666666666,
              "#ed7953"
             ],
             [
              0.7777777777777778,
              "#fb9f3a"
             ],
             [
              0.8888888888888888,
              "#fdca26"
             ],
             [
              1,
              "#f0f921"
             ]
            ],
            "type": "heatmap"
           }
          ],
          "heatmapgl": [
           {
            "colorbar": {
             "outlinewidth": 0,
             "ticks": ""
            },
            "colorscale": [
             [
              0,
              "#0d0887"
             ],
             [
              0.1111111111111111,
              "#46039f"
             ],
             [
              0.2222222222222222,
              "#7201a8"
             ],
             [
              0.3333333333333333,
              "#9c179e"
             ],
             [
              0.4444444444444444,
              "#bd3786"
             ],
             [
              0.5555555555555556,
              "#d8576b"
             ],
             [
              0.6666666666666666,
              "#ed7953"
             ],
             [
              0.7777777777777778,
              "#fb9f3a"
             ],
             [
              0.8888888888888888,
              "#fdca26"
             ],
             [
              1,
              "#f0f921"
             ]
            ],
            "type": "heatmapgl"
           }
          ],
          "histogram": [
           {
            "marker": {
             "pattern": {
              "fillmode": "overlay",
              "size": 10,
              "solidity": 0.2
             }
            },
            "type": "histogram"
           }
          ],
          "histogram2d": [
           {
            "colorbar": {
             "outlinewidth": 0,
             "ticks": ""
            },
            "colorscale": [
             [
              0,
              "#0d0887"
             ],
             [
              0.1111111111111111,
              "#46039f"
             ],
             [
              0.2222222222222222,
              "#7201a8"
             ],
             [
              0.3333333333333333,
              "#9c179e"
             ],
             [
              0.4444444444444444,
              "#bd3786"
             ],
             [
              0.5555555555555556,
              "#d8576b"
             ],
             [
              0.6666666666666666,
              "#ed7953"
             ],
             [
              0.7777777777777778,
              "#fb9f3a"
             ],
             [
              0.8888888888888888,
              "#fdca26"
             ],
             [
              1,
              "#f0f921"
             ]
            ],
            "type": "histogram2d"
           }
          ],
          "histogram2dcontour": [
           {
            "colorbar": {
             "outlinewidth": 0,
             "ticks": ""
            },
            "colorscale": [
             [
              0,
              "#0d0887"
             ],
             [
              0.1111111111111111,
              "#46039f"
             ],
             [
              0.2222222222222222,
              "#7201a8"
             ],
             [
              0.3333333333333333,
              "#9c179e"
             ],
             [
              0.4444444444444444,
              "#bd3786"
             ],
             [
              0.5555555555555556,
              "#d8576b"
             ],
             [
              0.6666666666666666,
              "#ed7953"
             ],
             [
              0.7777777777777778,
              "#fb9f3a"
             ],
             [
              0.8888888888888888,
              "#fdca26"
             ],
             [
              1,
              "#f0f921"
             ]
            ],
            "type": "histogram2dcontour"
           }
          ],
          "mesh3d": [
           {
            "colorbar": {
             "outlinewidth": 0,
             "ticks": ""
            },
            "type": "mesh3d"
           }
          ],
          "parcoords": [
           {
            "line": {
             "colorbar": {
              "outlinewidth": 0,
              "ticks": ""
             }
            },
            "type": "parcoords"
           }
          ],
          "pie": [
           {
            "automargin": true,
            "type": "pie"
           }
          ],
          "scatter": [
           {
            "fillpattern": {
             "fillmode": "overlay",
             "size": 10,
             "solidity": 0.2
            },
            "type": "scatter"
           }
          ],
          "scatter3d": [
           {
            "line": {
             "colorbar": {
              "outlinewidth": 0,
              "ticks": ""
             }
            },
            "marker": {
             "colorbar": {
              "outlinewidth": 0,
              "ticks": ""
             }
            },
            "type": "scatter3d"
           }
          ],
          "scattercarpet": [
           {
            "marker": {
             "colorbar": {
              "outlinewidth": 0,
              "ticks": ""
             }
            },
            "type": "scattercarpet"
           }
          ],
          "scattergeo": [
           {
            "marker": {
             "colorbar": {
              "outlinewidth": 0,
              "ticks": ""
             }
            },
            "type": "scattergeo"
           }
          ],
          "scattergl": [
           {
            "marker": {
             "colorbar": {
              "outlinewidth": 0,
              "ticks": ""
             }
            },
            "type": "scattergl"
           }
          ],
          "scattermapbox": [
           {
            "marker": {
             "colorbar": {
              "outlinewidth": 0,
              "ticks": ""
             }
            },
            "type": "scattermapbox"
           }
          ],
          "scatterpolar": [
           {
            "marker": {
             "colorbar": {
              "outlinewidth": 0,
              "ticks": ""
             }
            },
            "type": "scatterpolar"
           }
          ],
          "scatterpolargl": [
           {
            "marker": {
             "colorbar": {
              "outlinewidth": 0,
              "ticks": ""
             }
            },
            "type": "scatterpolargl"
           }
          ],
          "scatterternary": [
           {
            "marker": {
             "colorbar": {
              "outlinewidth": 0,
              "ticks": ""
             }
            },
            "type": "scatterternary"
           }
          ],
          "surface": [
           {
            "colorbar": {
             "outlinewidth": 0,
             "ticks": ""
            },
            "colorscale": [
             [
              0,
              "#0d0887"
             ],
             [
              0.1111111111111111,
              "#46039f"
             ],
             [
              0.2222222222222222,
              "#7201a8"
             ],
             [
              0.3333333333333333,
              "#9c179e"
             ],
             [
              0.4444444444444444,
              "#bd3786"
             ],
             [
              0.5555555555555556,
              "#d8576b"
             ],
             [
              0.6666666666666666,
              "#ed7953"
             ],
             [
              0.7777777777777778,
              "#fb9f3a"
             ],
             [
              0.8888888888888888,
              "#fdca26"
             ],
             [
              1,
              "#f0f921"
             ]
            ],
            "type": "surface"
           }
          ],
          "table": [
           {
            "cells": {
             "fill": {
              "color": "#EBF0F8"
             },
             "line": {
              "color": "white"
             }
            },
            "header": {
             "fill": {
              "color": "#C8D4E3"
             },
             "line": {
              "color": "white"
             }
            },
            "type": "table"
           }
          ]
         },
         "layout": {
          "annotationdefaults": {
           "arrowcolor": "#2a3f5f",
           "arrowhead": 0,
           "arrowwidth": 1
          },
          "autotypenumbers": "strict",
          "coloraxis": {
           "colorbar": {
            "outlinewidth": 0,
            "ticks": ""
           }
          },
          "colorscale": {
           "diverging": [
            [
             0,
             "#8e0152"
            ],
            [
             0.1,
             "#c51b7d"
            ],
            [
             0.2,
             "#de77ae"
            ],
            [
             0.3,
             "#f1b6da"
            ],
            [
             0.4,
             "#fde0ef"
            ],
            [
             0.5,
             "#f7f7f7"
            ],
            [
             0.6,
             "#e6f5d0"
            ],
            [
             0.7,
             "#b8e186"
            ],
            [
             0.8,
             "#7fbc41"
            ],
            [
             0.9,
             "#4d9221"
            ],
            [
             1,
             "#276419"
            ]
           ],
           "sequential": [
            [
             0,
             "#0d0887"
            ],
            [
             0.1111111111111111,
             "#46039f"
            ],
            [
             0.2222222222222222,
             "#7201a8"
            ],
            [
             0.3333333333333333,
             "#9c179e"
            ],
            [
             0.4444444444444444,
             "#bd3786"
            ],
            [
             0.5555555555555556,
             "#d8576b"
            ],
            [
             0.6666666666666666,
             "#ed7953"
            ],
            [
             0.7777777777777778,
             "#fb9f3a"
            ],
            [
             0.8888888888888888,
             "#fdca26"
            ],
            [
             1,
             "#f0f921"
            ]
           ],
           "sequentialminus": [
            [
             0,
             "#0d0887"
            ],
            [
             0.1111111111111111,
             "#46039f"
            ],
            [
             0.2222222222222222,
             "#7201a8"
            ],
            [
             0.3333333333333333,
             "#9c179e"
            ],
            [
             0.4444444444444444,
             "#bd3786"
            ],
            [
             0.5555555555555556,
             "#d8576b"
            ],
            [
             0.6666666666666666,
             "#ed7953"
            ],
            [
             0.7777777777777778,
             "#fb9f3a"
            ],
            [
             0.8888888888888888,
             "#fdca26"
            ],
            [
             1,
             "#f0f921"
            ]
           ]
          },
          "colorway": [
           "#636efa",
           "#EF553B",
           "#00cc96",
           "#ab63fa",
           "#FFA15A",
           "#19d3f3",
           "#FF6692",
           "#B6E880",
           "#FF97FF",
           "#FECB52"
          ],
          "font": {
           "color": "#2a3f5f"
          },
          "geo": {
           "bgcolor": "white",
           "lakecolor": "white",
           "landcolor": "#E5ECF6",
           "showlakes": true,
           "showland": true,
           "subunitcolor": "white"
          },
          "hoverlabel": {
           "align": "left"
          },
          "hovermode": "closest",
          "mapbox": {
           "style": "light"
          },
          "paper_bgcolor": "white",
          "plot_bgcolor": "#E5ECF6",
          "polar": {
           "angularaxis": {
            "gridcolor": "white",
            "linecolor": "white",
            "ticks": ""
           },
           "bgcolor": "#E5ECF6",
           "radialaxis": {
            "gridcolor": "white",
            "linecolor": "white",
            "ticks": ""
           }
          },
          "scene": {
           "xaxis": {
            "backgroundcolor": "#E5ECF6",
            "gridcolor": "white",
            "gridwidth": 2,
            "linecolor": "white",
            "showbackground": true,
            "ticks": "",
            "zerolinecolor": "white"
           },
           "yaxis": {
            "backgroundcolor": "#E5ECF6",
            "gridcolor": "white",
            "gridwidth": 2,
            "linecolor": "white",
            "showbackground": true,
            "ticks": "",
            "zerolinecolor": "white"
           },
           "zaxis": {
            "backgroundcolor": "#E5ECF6",
            "gridcolor": "white",
            "gridwidth": 2,
            "linecolor": "white",
            "showbackground": true,
            "ticks": "",
            "zerolinecolor": "white"
           }
          },
          "shapedefaults": {
           "line": {
            "color": "#2a3f5f"
           }
          },
          "ternary": {
           "aaxis": {
            "gridcolor": "white",
            "linecolor": "white",
            "ticks": ""
           },
           "baxis": {
            "gridcolor": "white",
            "linecolor": "white",
            "ticks": ""
           },
           "bgcolor": "#E5ECF6",
           "caxis": {
            "gridcolor": "white",
            "linecolor": "white",
            "ticks": ""
           }
          },
          "title": {
           "x": 0.05
          },
          "xaxis": {
           "automargin": true,
           "gridcolor": "white",
           "linecolor": "white",
           "ticks": "",
           "title": {
            "standoff": 15
           },
           "zerolinecolor": "white",
           "zerolinewidth": 2
          },
          "yaxis": {
           "automargin": true,
           "gridcolor": "white",
           "linecolor": "white",
           "ticks": "",
           "title": {
            "standoff": 15
           },
           "zerolinecolor": "white",
           "zerolinewidth": 2
          }
         }
        },
        "title": {
         "text": "Tree Of Token"
        }
       }
      }
     },
     "metadata": {},
     "output_type": "display_data"
    }
   ],
   "source": [
    "fig = px.treemap(t_count, path=['token'], values='count',title='Tree Of Token')\n",
    "fig.show()"
   ]
  },
  {
   "cell_type": "code",
   "execution_count": 13,
   "metadata": {},
   "outputs": [],
   "source": [
    "# AMM protocols\n",
    "uniswap = Dex(protocol=\"Uniswap\", chain=\"Ethereum\", version=2)\n",
    "balancer = Dex(protocol=\"Balancer\", chain=\"Ethereum\", version=1)\n",
    "bancor = Dex(\"Bancor\", chain=\"Ethereum\", version=1)\n",
    "shushi = Dex(\"SushiSwap\", chain=\"Ethereum\", version=1)"
   ]
  },
  {
   "cell_type": "code",
   "execution_count": 14,
   "metadata": {},
   "outputs": [
    {
     "data": {
      "text/plain": [
       "['swap', 'pool']"
      ]
     },
     "execution_count": 14,
     "metadata": {},
     "output_type": "execute_result"
    }
   ],
   "source": [
    "uniswap.supported_entities()"
   ]
  },
  {
   "cell_type": "code",
   "execution_count": 23,
   "metadata": {},
   "outputs": [
    {
     "data": {
      "text/html": [
       "<div>\n",
       "<style scoped>\n",
       "    .dataframe tbody tr th:only-of-type {\n",
       "        vertical-align: middle;\n",
       "    }\n",
       "\n",
       "    .dataframe tbody tr th {\n",
       "        vertical-align: top;\n",
       "    }\n",
       "\n",
       "    .dataframe thead th {\n",
       "        text-align: right;\n",
       "    }\n",
       "</style>\n",
       "<table border=\"1\" class=\"dataframe\">\n",
       "  <thead>\n",
       "    <tr style=\"text-align: right;\">\n",
       "      <th></th>\n",
       "      <th>user</th>\n",
       "      <th>protocol</th>\n",
       "      <th>chain</th>\n",
       "      <th>version</th>\n",
       "      <th>tx_id</th>\n",
       "      <th>from_token</th>\n",
       "      <th>to_token</th>\n",
       "      <th>from_token_amount</th>\n",
       "      <th>to_token_amount</th>\n",
       "      <th>pool</th>\n",
       "      <th>amount_usd</th>\n",
       "      <th>timestamp</th>\n",
       "    </tr>\n",
       "  </thead>\n",
       "  <tbody>\n",
       "    <tr>\n",
       "      <th>0</th>\n",
       "      <td>0x68b3465833fb72a70ecdf485e0e4c7bd8665fc45</td>\n",
       "      <td>Uniswap</td>\n",
       "      <td>Ethereum</td>\n",
       "      <td>2</td>\n",
       "      <td>0x00d9475dd0265ff861294c7020daf52b0e7f48948d3b...</td>\n",
       "      <td>WETH</td>\n",
       "      <td>GLOW</td>\n",
       "      <td>0.5</td>\n",
       "      <td>14378546.653698203033654072</td>\n",
       "      <td>0x88139c8995bccb48314e7c0f86d37f5043e4b923</td>\n",
       "      <td>689.1714398079919187250603344851873</td>\n",
       "      <td>1670018411</td>\n",
       "    </tr>\n",
       "    <tr>\n",
       "      <th>1</th>\n",
       "      <td>0x7a250d5630b4cf539739df2c5dacb4c659f2488d</td>\n",
       "      <td>Uniswap</td>\n",
       "      <td>Ethereum</td>\n",
       "      <td>2</td>\n",
       "      <td>0x3dcb1ae2e1059cd07894c3a3cc348fb55da6cedf0983...</td>\n",
       "      <td>WETH</td>\n",
       "      <td>ETHB</td>\n",
       "      <td>0.025</td>\n",
       "      <td>1613.584287735</td>\n",
       "      <td>0x156ab3382460ec7ffc47bc94adc3b5fbc6949e07</td>\n",
       "      <td>32.36568771848593476880299743786539</td>\n",
       "      <td>1670018411</td>\n",
       "    </tr>\n",
       "    <tr>\n",
       "      <th>2</th>\n",
       "      <td>0xdef1c0ded9bec7f1a1670819833240f027b25eff</td>\n",
       "      <td>Uniswap</td>\n",
       "      <td>Ethereum</td>\n",
       "      <td>2</td>\n",
       "      <td>0xc7bf1269584631d8483f96683e30efec6da6473a53cb...</td>\n",
       "      <td>WETH</td>\n",
       "      <td>FAFO</td>\n",
       "      <td>0.02</td>\n",
       "      <td>138694.634733695</td>\n",
       "      <td>0xaea841490bb223c61f904c9efbf6e4faac740406</td>\n",
       "      <td>25.82275208550322057698560343586805</td>\n",
       "      <td>1670018411</td>\n",
       "    </tr>\n",
       "    <tr>\n",
       "      <th>3</th>\n",
       "      <td>0x1111111254eeb25477b68fb85ed929f73a960582</td>\n",
       "      <td>Uniswap</td>\n",
       "      <td>Ethereum</td>\n",
       "      <td>2</td>\n",
       "      <td>0xdcc8a31f3d22967e291df70da0a97f916082633da61b...</td>\n",
       "      <td>FYRANT</td>\n",
       "      <td>WETH</td>\n",
       "      <td>2000000</td>\n",
       "      <td>0.03924899924945692</td>\n",
       "      <td>0xaf8f3819a67d69c28bfaa95a24070e2a782af933</td>\n",
       "      <td>50.58249359081892525165385009327277</td>\n",
       "      <td>1670018411</td>\n",
       "    </tr>\n",
       "    <tr>\n",
       "      <th>4</th>\n",
       "      <td>0x68b3465833fb72a70ecdf485e0e4c7bd8665fc45</td>\n",
       "      <td>Uniswap</td>\n",
       "      <td>Ethereum</td>\n",
       "      <td>2</td>\n",
       "      <td>0xfce654aa5c01da123094d21489304010e9a6d69ff179...</td>\n",
       "      <td>WETH</td>\n",
       "      <td>VCASH</td>\n",
       "      <td>2.5</td>\n",
       "      <td>2627034.604744837103492585</td>\n",
       "      <td>0x8d6f94407a05e8bd68539574f3fc3c2796742919</td>\n",
       "      <td>3297.572106462198771031340657136361</td>\n",
       "      <td>1670018411</td>\n",
       "    </tr>\n",
       "  </tbody>\n",
       "</table>\n",
       "</div>"
      ],
      "text/plain": [
       "                                         user protocol     chain  version  \\\n",
       "0  0x68b3465833fb72a70ecdf485e0e4c7bd8665fc45  Uniswap  Ethereum        2   \n",
       "1  0x7a250d5630b4cf539739df2c5dacb4c659f2488d  Uniswap  Ethereum        2   \n",
       "2  0xdef1c0ded9bec7f1a1670819833240f027b25eff  Uniswap  Ethereum        2   \n",
       "3  0x1111111254eeb25477b68fb85ed929f73a960582  Uniswap  Ethereum        2   \n",
       "4  0x68b3465833fb72a70ecdf485e0e4c7bd8665fc45  Uniswap  Ethereum        2   \n",
       "\n",
       "                                               tx_id from_token to_token  \\\n",
       "0  0x00d9475dd0265ff861294c7020daf52b0e7f48948d3b...       WETH     GLOW   \n",
       "1  0x3dcb1ae2e1059cd07894c3a3cc348fb55da6cedf0983...       WETH     ETHB   \n",
       "2  0xc7bf1269584631d8483f96683e30efec6da6473a53cb...       WETH     FAFO   \n",
       "3  0xdcc8a31f3d22967e291df70da0a97f916082633da61b...     FYRANT     WETH   \n",
       "4  0xfce654aa5c01da123094d21489304010e9a6d69ff179...       WETH    VCASH   \n",
       "\n",
       "  from_token_amount              to_token_amount  \\\n",
       "0               0.5  14378546.653698203033654072   \n",
       "1             0.025               1613.584287735   \n",
       "2              0.02             138694.634733695   \n",
       "3           2000000          0.03924899924945692   \n",
       "4               2.5   2627034.604744837103492585   \n",
       "\n",
       "                                         pool  \\\n",
       "0  0x88139c8995bccb48314e7c0f86d37f5043e4b923   \n",
       "1  0x156ab3382460ec7ffc47bc94adc3b5fbc6949e07   \n",
       "2  0xaea841490bb223c61f904c9efbf6e4faac740406   \n",
       "3  0xaf8f3819a67d69c28bfaa95a24070e2a782af933   \n",
       "4  0x8d6f94407a05e8bd68539574f3fc3c2796742919   \n",
       "\n",
       "                            amount_usd   timestamp  \n",
       "0  689.1714398079919187250603344851873  1670018411  \n",
       "1  32.36568771848593476880299743786539  1670018411  \n",
       "2  25.82275208550322057698560343586805  1670018411  \n",
       "3  50.58249359081892525165385009327277  1670018411  \n",
       "4  3297.572106462198771031340657136361  1670018411  "
      ]
     },
     "execution_count": 23,
     "metadata": {},
     "output_type": "execute_result"
    }
   ],
   "source": [
    "# Get all the swaps in a time range\n",
    "start_date_amm = '03/12/2022 00:00:00'\n",
    "end_date_amm = '03/12/2022 23:59:59'\n",
    "\n",
    "list_swaps = [*uniswap.get_data_from_date_range(start_date_amm, end_date_amm, \"swap\"),\n",
    "              *balancer.get_data_from_date_range(start_date_amm, end_date_amm, \"swap\"),\n",
    "              *bancor.get_data_from_date_range(start_date_amm, end_date_amm, \"swap\"),\n",
    "              *shushi.get_data_from_date_range(start_date_amm, end_date_amm, \"swap\")]\n",
    "\n",
    "\n",
    "#print(list_swaps)\n",
    "df_swaps = pd.DataFrame.from_records(list_swaps)\n",
    "df_swaps.head()"
   ]
  },
  {
   "cell_type": "code",
   "execution_count": 24,
   "metadata": {},
   "outputs": [
    {
     "data": {
      "text/plain": [
       "(80471, 12)"
      ]
     },
     "execution_count": 24,
     "metadata": {},
     "output_type": "execute_result"
    }
   ],
   "source": [
    "df_swaps.shape"
   ]
  },
  {
   "cell_type": "code",
   "execution_count": 18,
   "metadata": {},
   "outputs": [
    {
     "data": {
      "text/html": [
       "<div>\n",
       "<style scoped>\n",
       "    .dataframe tbody tr th:only-of-type {\n",
       "        vertical-align: middle;\n",
       "    }\n",
       "\n",
       "    .dataframe tbody tr th {\n",
       "        vertical-align: top;\n",
       "    }\n",
       "\n",
       "    .dataframe thead th {\n",
       "        text-align: right;\n",
       "    }\n",
       "</style>\n",
       "<table border=\"1\" class=\"dataframe\">\n",
       "  <thead>\n",
       "    <tr style=\"text-align: right;\">\n",
       "      <th></th>\n",
       "      <th>pair</th>\n",
       "      <th>protocol</th>\n",
       "      <th>chain</th>\n",
       "      <th>version</th>\n",
       "      <th>price</th>\n",
       "      <th>timestamp</th>\n",
       "    </tr>\n",
       "  </thead>\n",
       "  <tbody>\n",
       "    <tr>\n",
       "      <th>0</th>\n",
       "      <td>ETH/USD</td>\n",
       "      <td>chainlink</td>\n",
       "      <td>Ethereum</td>\n",
       "      <td>1</td>\n",
       "      <td>1550.791246</td>\n",
       "      <td>1667253899</td>\n",
       "    </tr>\n",
       "    <tr>\n",
       "      <th>1</th>\n",
       "      <td>ETH/USD</td>\n",
       "      <td>chainlink</td>\n",
       "      <td>Ethereum</td>\n",
       "      <td>1</td>\n",
       "      <td>1558.846853</td>\n",
       "      <td>1667254019</td>\n",
       "    </tr>\n",
       "    <tr>\n",
       "      <th>2</th>\n",
       "      <td>ETH/USD</td>\n",
       "      <td>chainlink</td>\n",
       "      <td>Ethereum</td>\n",
       "      <td>1</td>\n",
       "      <td>1566.960000</td>\n",
       "      <td>1667254775</td>\n",
       "    </tr>\n",
       "    <tr>\n",
       "      <th>3</th>\n",
       "      <td>ETH/USD</td>\n",
       "      <td>chainlink</td>\n",
       "      <td>Ethereum</td>\n",
       "      <td>1</td>\n",
       "      <td>1565.050000</td>\n",
       "      <td>1667256935</td>\n",
       "    </tr>\n",
       "    <tr>\n",
       "      <th>4</th>\n",
       "      <td>ETH/USD</td>\n",
       "      <td>chainlink</td>\n",
       "      <td>Ethereum</td>\n",
       "      <td>1</td>\n",
       "      <td>1573.187442</td>\n",
       "      <td>1667260019</td>\n",
       "    </tr>\n",
       "  </tbody>\n",
       "</table>\n",
       "</div>"
      ],
      "text/plain": [
       "      pair   protocol     chain  version        price   timestamp\n",
       "0  ETH/USD  chainlink  Ethereum        1  1550.791246  1667253899\n",
       "1  ETH/USD  chainlink  Ethereum        1  1558.846853  1667254019\n",
       "2  ETH/USD  chainlink  Ethereum        1  1566.960000  1667254775\n",
       "3  ETH/USD  chainlink  Ethereum        1  1565.050000  1667256935\n",
       "4  ETH/USD  chainlink  Ethereum        1  1573.187442  1667260019"
      ]
     },
     "execution_count": 18,
     "metadata": {},
     "output_type": "execute_result"
    }
   ],
   "source": [
    "# Oracles\n",
    "chainlink = Oracle(protocol=\"chainlink\", version=1, chain=\"Ethereum\")\n",
    "\n",
    "\n",
    "\n",
    "# Get the ETH/USD price of a period\n",
    "start_date = '01/11/2022 00:00:01'\n",
    "end_date = '03/12/2022 23:59:00'\n",
    "price_eth = chainlink.get_price_from_date_range(\n",
    "    from_date=start_date, to_date=end_date, pair=\"ETH/USD\")\n",
    "\n",
    "\n",
    "df_price = pd.DataFrame.from_records(price_eth)\n",
    "df_price.head()"
   ]
  },
  {
   "cell_type": "code",
   "execution_count": 19,
   "metadata": {},
   "outputs": [
    {
     "data": {
      "text/plain": [
       "(2462, 6)"
      ]
     },
     "execution_count": 19,
     "metadata": {},
     "output_type": "execute_result"
    }
   ],
   "source": [
    "df_price.shape"
   ]
  },
  {
   "cell_type": "code",
   "execution_count": null,
   "metadata": {},
   "outputs": [],
   "source": []
  }
 ],
 "metadata": {
  "kernelspec": {
   "display_name": "web3",
   "language": "python",
   "name": "python3"
  },
  "language_info": {
   "codemirror_mode": {
    "name": "ipython",
    "version": 3
   },
   "file_extension": ".py",
   "mimetype": "text/x-python",
   "name": "python",
   "nbconvert_exporter": "python",
   "pygments_lexer": "ipython3",
   "version": "3.10.8 (main, Nov 24 2022, 08:08:27) [Clang 14.0.6 ]"
  },
  "orig_nbformat": 4,
  "vscode": {
   "interpreter": {
    "hash": "1e47ca78836309481c671e9b65604625994035f0a3785fb2d8cccc79febd5865"
   }
  }
 },
 "nbformat": 4,
 "nbformat_minor": 2
}
